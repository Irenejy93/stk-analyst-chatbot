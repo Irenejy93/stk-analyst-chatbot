{
 "cells": [
  {
   "cell_type": "code",
   "execution_count": 4,
   "id": "88715b96-47d2-4261-bec7-915d1f0f85a5",
   "metadata": {},
   "outputs": [
    {
     "name": "stdout",
     "output_type": "stream",
     "text": [
      "/workspace\n"
     ]
    }
   ],
   "source": [
    "%cd /workspace\n",
    "import pickle\n",
    "with open('data/test_trl_messages.pkl','rb')as f:\n",
    "    test_trl_messages = pickle.load(f)"
   ]
  },
  {
   "cell_type": "code",
   "execution_count": 2,
   "id": "1d27e41c-83d9-4c9c-bfe6-69854971bc77",
   "metadata": {},
   "outputs": [],
   "source": [
    "# import streamlit as st\n",
    "import pandas as pd\n",
    "# import fitz\n",
    "import io\n",
    "import time\n",
    "import json\n",
    "import os\n",
    "import urllib.request\n",
    "import praw\n",
    "from datetime import datetime, timedelta\n",
    "import yfinance as yf\n",
    "import requests\n",
    "import torch\n",
    "from transformers import AutoModelForCausalLM, AutoTokenizer, BitsAndBytesConfig\n"
   ]
  },
  {
   "cell_type": "code",
   "execution_count": 12,
   "id": "adee2ea0-9a06-4a2f-abfc-dd2a0dd6c28d",
   "metadata": {
    "scrolled": true
   },
   "outputs": [],
   "source": [
    "\n",
    "import string\n",
    "from vllm import LLM, SamplingParams\n",
    "# LLM"
   ]
  },
  {
   "cell_type": "code",
   "execution_count": 13,
   "id": "dda2a4a9-13b1-4a40-a8af-ab1d0861f17b",
   "metadata": {},
   "outputs": [
    {
     "data": {
      "application/vnd.jupyter.widget-view+json": {
       "model_id": "bb541f4ec690486293fdd370fb5a86c7",
       "version_major": 2,
       "version_minor": 0
      },
      "text/plain": [
       "config.json:   0%|          | 0.00/731 [00:00<?, ?B/s]"
      ]
     },
     "metadata": {},
     "output_type": "display_data"
    },
    {
     "name": "stdout",
     "output_type": "stream",
     "text": [
      "INFO 03-17 07:44:40 llm_engine.py:213] Initializing an LLM engine (v0.6.0) with config: model='irene93/functioncall_stkissue', speculative_config=None, tokenizer='irene93/functioncall_stkissue', skip_tokenizer_init=False, tokenizer_mode=auto, revision=None, override_neuron_config=None, rope_scaling=None, rope_theta=None, tokenizer_revision=None, trust_remote_code=False, dtype=torch.float16, max_seq_len=32768, download_dir=None, load_format=LoadFormat.AUTO, tensor_parallel_size=1, pipeline_parallel_size=1, disable_custom_all_reduce=False, quantization=None, enforce_eager=False, kv_cache_dtype=auto, quantization_param_path=None, device_config=cuda, decoding_config=DecodingConfig(guided_decoding_backend='outlines'), observability_config=ObservabilityConfig(otlp_traces_endpoint=None, collect_model_forward_time=False, collect_model_execute_time=False), seed=0, served_model_name=irene93/functioncall_stkissue, use_v2_block_manager=False, num_scheduler_steps=1, enable_prefix_caching=False, use_async_output_proc=True)\n"
     ]
    },
    {
     "data": {
      "application/vnd.jupyter.widget-view+json": {
       "model_id": "b8a4e606cd954735b57ac5fbbe7f2967",
       "version_major": 2,
       "version_minor": 0
      },
      "text/plain": [
       "generation_config.json:   0%|          | 0.00/243 [00:00<?, ?B/s]"
      ]
     },
     "metadata": {},
     "output_type": "display_data"
    },
    {
     "name": "stdout",
     "output_type": "stream",
     "text": [
      "INFO 03-17 07:44:41 model_runner.py:915] Starting to load model irene93/functioncall_stkissue...\n",
      "INFO 03-17 07:44:42 weight_utils.py:236] Using model weights format ['*.safetensors']\n"
     ]
    },
    {
     "data": {
      "application/vnd.jupyter.widget-view+json": {
       "model_id": "c807e7ce92a64fd2a4662e99405a5648",
       "version_major": 2,
       "version_minor": 0
      },
      "text/plain": [
       "model-00003-of-00004.safetensors:   0%|          | 0.00/4.33G [00:00<?, ?B/s]"
      ]
     },
     "metadata": {},
     "output_type": "display_data"
    },
    {
     "data": {
      "application/vnd.jupyter.widget-view+json": {
       "model_id": "c1591728a10d434294e8607cb57de81f",
       "version_major": 2,
       "version_minor": 0
      },
      "text/plain": [
       "model-00001-of-00004.safetensors:   0%|          | 0.00/4.88G [00:00<?, ?B/s]"
      ]
     },
     "metadata": {},
     "output_type": "display_data"
    },
    {
     "data": {
      "application/vnd.jupyter.widget-view+json": {
       "model_id": "3dce61658b5e4a3cba18db3b395b78bc",
       "version_major": 2,
       "version_minor": 0
      },
      "text/plain": [
       "model-00004-of-00004.safetensors:   0%|          | 0.00/1.09G [00:00<?, ?B/s]"
      ]
     },
     "metadata": {},
     "output_type": "display_data"
    },
    {
     "data": {
      "application/vnd.jupyter.widget-view+json": {
       "model_id": "3ff57b0dc8ac439abbc740f288974028",
       "version_major": 2,
       "version_minor": 0
      },
      "text/plain": [
       "model-00002-of-00004.safetensors:   0%|          | 0.00/4.93G [00:00<?, ?B/s]"
      ]
     },
     "metadata": {},
     "output_type": "display_data"
    },
    {
     "data": {
      "application/vnd.jupyter.widget-view+json": {
       "model_id": "b1109189882049e8acc5079208d21746",
       "version_major": 2,
       "version_minor": 0
      },
      "text/plain": [
       "model.safetensors.index.json:   0%|          | 0.00/27.8k [00:00<?, ?B/s]"
      ]
     },
     "metadata": {},
     "output_type": "display_data"
    },
    {
     "data": {
      "application/vnd.jupyter.widget-view+json": {
       "model_id": "f63a6bad1a77461abfe050b52b598cae",
       "version_major": 2,
       "version_minor": 0
      },
      "text/plain": [
       "Loading safetensors checkpoint shards:   0% Completed | 0/4 [00:00<?, ?it/s]\n"
      ]
     },
     "metadata": {},
     "output_type": "display_data"
    },
    {
     "name": "stdout",
     "output_type": "stream",
     "text": [
      "INFO 03-17 07:45:10 model_runner.py:926] Loading model weights took 14.2487 GB\n",
      "INFO 03-17 07:45:12 gpu_executor.py:122] # GPU blocks: 61092, # CPU blocks: 4681\n",
      "INFO 03-17 07:45:17 model_runner.py:1217] Capturing the model for CUDA graphs. This may lead to unexpected consequences if the model is not static. To run the model in eager mode, set 'enforce_eager=True' or use '--enforce-eager' in the CLI.\n",
      "INFO 03-17 07:45:17 model_runner.py:1221] CUDA graphs can take additional 1~3 GiB memory per GPU. If you are running out of memory, consider decreasing `gpu_memory_utilization` or enforcing eager mode. You can also reduce the `max_num_seqs` as needed to decrease memory usage.\n",
      "INFO 03-17 07:45:31 model_runner.py:1335] Graph capturing finished in 14 secs.\n"
     ]
    }
   ],
   "source": [
    "model_id='irene93/functioncall_stkissue'\n",
    "llm = LLM(model=model_id)\n",
    "tokenizer = AutoTokenizer.from_pretrained(model_id)"
   ]
  },
  {
   "cell_type": "code",
   "execution_count": 15,
   "id": "e9988358-30a0-4f43-8ebd-95c452ce1a41",
   "metadata": {},
   "outputs": [],
   "source": [
    "tools = [{\"type\": \"function\",\n",
    "       \"function\":   {\n",
    "        \"name\":'get_earnings',\n",
    "        \"description\":'당신은 기업의 실적, 재무재표 또는 현금흐름을 가져오고 분석하는 로봇입니다.',\n",
    "        'parameters':{\n",
    "            \"type\":\"object\",\n",
    "            \"properties\" :{\n",
    "                \"symbol\":{'type':'string', \"description\": '실적 데이터를 찾고자 하는 기업의 symbol'},\n",
    "                'analysis_type':{'type':'string', \"description\":\"\"\"기업의 재무 데이터에서 어떤 정보를 추출하고자 하는지 출력하는 파라미터입니다.\n",
    "                매출 성장률, 순이익 성장률, 영업이익 성장률 과 같은 기업의 성장성을 요청할경우 'growth'라고 출력,\n",
    "                얼마나 효율적으로 이익을 창출하는지 수익성과 관련한 질문일경우 'profitability' 출력,\n",
    "                부채 수준과 재무 건전성과 관련한 질문일경우 'stability' 출력,\n",
    "                현재 가치와 적정 주가와 관련한 질문일경우 'valuation' 출력,\n",
    "                현금을 얼마나 잘 창출하는지 확인하여 재무건전성과 관련한 질문일경우 'cashflow' 출력,\n",
    "                배당 정책과 주식 발행 내역과 관련한 질문일경우 'dividend' 출력,\n",
    "                비용 절감 능력과 효율성과 관련한 질문일경우 'cost' 출력,\n",
    "                그외의 재무,실적,현금흐름과 연관이있지만 파라미터를 찾을수없는경우 'NA'라고 출력합니다.\n",
    "\n",
    "                \"\"\"},\n",
    "                \"type_\":{'type':'string', \"description\": \"연간 데이터 일경우 'yearly' 아닐경우 'quarter' 이라고 표기\"},\n",
    "                \"year\":{'type':'string', \"description\": '데이터를 찾고자 하는 연도, 명시 하지 않을경우 가장 최근 연도 로 설정, 1월일경우 , 해당연도에 데이터가 입력되지않을수있음 따라서 최근연도-1 값을 연도라고 표기 '},\n",
    "                \"quarter\":{'type':'string', \"description\": '데이터를 찾고자 하는 분기로 1~4로 이루어진 숫자, 마지막 또는 최근 분기일경우 또는 언급이 없을경우 -1 이라고 표기 '}\n",
    "            },\n",
    "            \"required\":['symbol', 'analysis_type','type_', 'year','quarter'],\n",
    "            \"additionalProperties\": False\n",
    "        },\n",
    "             \"strict\": True\n",
    "    }},\n",
    "         {\"type\": \"function\",\n",
    "       \"function\":   {\n",
    "        \"name\":'get_consensus',\n",
    "        \"description\":'당신은 기업의 (EPS) 컨센서스 데이터 또는, 매수/매도/홀드 의견 목표주가를 가져와서 분석하는 로봇입니다.',\n",
    "        'parameters':{\n",
    "            \"type\":\"object\",\n",
    "            \"properties\" :{\n",
    "                \"symbol\":{'type':'string', \"description\": ' 데이터를 찾고자 하는 기업의 symbol'},\n",
    "                \"year\":{'type':'string', \"description\": '데이터를 찾고자 하는 연도, 명시 하지 않을경우 가장 최근 연도 로 설정, 1월일경우 , 해당연도에 데이터가 입력되지않을수있음 따라서 최근연도-1 값을 연도라고 표기 '},\n",
    "                \"quarter\":{'type':'string', \"description\": '데이터를 찾고자 하는 분기로 1~4로 이루어진 숫자, 최근 또는 마지막일경우 -1 이라고 표기 '}\n",
    "            },\n",
    "            \"required\":['symbol', 'year','quarter'],\n",
    "            \"additionalProperties\": False\n",
    "        },\n",
    "             \"strict\": True\n",
    "    }},\n",
    "        {\"type\": \"function\",\n",
    "         \"function\":    {\n",
    "        \"name\":'get_issues_summarized',\n",
    "        \"description\":'당신은 특정 기업 또는 키워드의 이슈검색 챗봇입니다.',\n",
    "        'parameters':{\n",
    "            \"type\":\"object\",\n",
    "            \"properties\" :{\n",
    "                \"keyword\":{'type':'string', \"description\": '이슈/현황을 검색하고자 하는 회사명 또는 키워드 in English '},\n",
    "                \"days\":{'type':'integer', \"description\": '검색하고자 하는 기간 예시: 하루, 일주일, 한달, 등등'}\n",
    "\n",
    "            },\n",
    "            \"required\":['keyword','days'],\n",
    "            \"additionalProperties\": False\n",
    "        },\n",
    "             \"strict\": True\n",
    "        }\n",
    "    },\n",
    "    {\"type\": \"function\",\n",
    "       \"function\":   {\n",
    "        \"name\":'get_reddit_hotissue',\n",
    "        \"description\":'당신은 (금융)시장에서 핫한 이슈를 요약하는 챗봇입니다.',\n",
    "        'parameters':{\n",
    "            \"type\":\"object\",\n",
    "            \"properties\" :{\n",
    "                \"days\":{'type':'integer', \"description\": '검색하고자 하는 기간 예시: 하루, 일주일, 한달,일년 등 **질문에 언급이 없을경우 일주일로 지정'}\n",
    "\n",
    "            },\n",
    "            \"required\":['days'],\n",
    "            \"additionalProperties\": False\n",
    "        },\n",
    "             \"strict\": True\n",
    "    }}]\n",
    "\n",
    "\n",
    "def get_issues_summarized(keyword ,days):\n",
    "    redditid = 'mOOCYGbbZZ7_n-x6TucUwQ'\n",
    "    reddit_pw = '2A3xDNKgeB4ld6wOEUfqOPsObU9WLw'\n",
    "\n",
    "    # Reddit API 인증\n",
    "    reddit = praw.Reddit(\n",
    "        client_id=redditid,\n",
    "        client_secret=reddit_pw,\n",
    "        user_agent='test'\n",
    "    )\n",
    "\n",
    "\n",
    "    daysago = datetime.utcnow() - timedelta(days=7)\n",
    "    subreddit = reddit.subreddit('wallstreetbets')\n",
    "\n",
    "    posts_data = []\n",
    "\n",
    "    for post in subreddit.search(keyword, sort='hot', limit=500):  # 최근 500개 게시글 확인\n",
    "        post_date = datetime.utcfromtimestamp(post.created_utc)\n",
    "        if post_date >= daysago:\n",
    "            posts_data.append(\n",
    "                'title :'+ post.title+'\\n'+\n",
    "                'body :' + post.selftext)\n",
    "    titleandbody = '\\n\\n'.join(posts_data)\n",
    "\n",
    "    return titleandbody\n",
    "\n",
    "def get_reddit_hotissue(days):\n",
    "    redditid = 'mOOCYGbbZZ7_n-x6TucUwQ'\n",
    "    reddit_pw = '2A3xDNKgeB4ld6wOEUfqOPsObU9WLw'\n",
    "\n",
    "    # Reddit API 인증\n",
    "    reddit = praw.Reddit(\n",
    "        client_id=redditid,\n",
    "        client_secret=reddit_pw,\n",
    "        user_agent='test'\n",
    "    )\n",
    "\n",
    "\n",
    "    daysago = datetime.utcnow() - timedelta(days=days)\n",
    "    subreddit = reddit.subreddit('wallstreetbets')\n",
    "\n",
    "    posts_data = []\n",
    "    for post in subreddit.hot(limit=500):\n",
    "        post_date = datetime.utcfromtimestamp(post.created_utc)\n",
    "        if post_date >= daysago:\n",
    "            posts_data.append(\n",
    "                'title :'+ post.title+'\\n'+\n",
    "                'body :' + post.selftext)\n",
    "    titleandbody = '\\n\\n'.join(posts_data)\n",
    "\n",
    "    return titleandbody\n",
    "\n",
    "\n",
    "def get_consensus(symbol , year, quarter):\n",
    "    ticker = yf.Ticker(symbol)\n",
    "    # 목표주가\n",
    "    try:\n",
    "        target_price = ticker.analyst_price_targets\n",
    "        # buysell = ticker.recommendations\n",
    "    except:\n",
    "        target_price='cannot get target price'\n",
    "        # buysell = 'cannot get recommendations'\n",
    "    api_key = 'd92779aed523de914055c6b543801a73'\n",
    "    consensus_url = f'https://financialmodelingprep.com/api/v3/earnings-surprises/{symbol}?apikey={api_key}'\n",
    "    consensus_response = requests.get(consensus_url).json()\n",
    "\n",
    "    for consensus in consensus_response:\n",
    "        consensus['year'] =consensus['date'][:4]\n",
    "        consensus['EPS_surprise'] = ((consensus['actualEarningResult'] - consensus['estimatedEarning']) /\n",
    "                                           consensus['estimatedEarning']) * 100\n",
    "\n",
    "\n",
    "    year_consensus = [a for a in consensus_response if a['year']==year or a['year']==str(int(year)-1)   or a['year']==str(int(year)+1 ) ]\n",
    "    if year_consensus:\n",
    "        if quarter =='-1':\n",
    "            result = [year_consensus[0]]\n",
    "        else:\n",
    "            result =  year_consensus\n",
    "    else:\n",
    "\n",
    "        result = consensus_response\n",
    "    if not consensus_response:\n",
    "        return '컨센서스 데이터를 찾을수 없습니다.'\n",
    "\n",
    "    result.append({'target_price':target_price})\n",
    "    return json.dumps(result)\n",
    "    # return result\n",
    "\n",
    "def get_earnings(symbol, analysis_type,type_,year, quarter):\n",
    "    ticker = yf.Ticker(symbol)\n",
    "    # 주가 데이터 가져오기\n",
    "    try:\n",
    "        current_price = ticker.history(period=\"1d\")[\"Close\"].iloc[-1]\n",
    "    except:\n",
    "        current_price= 'currently cannot get current price'\n",
    "\n",
    "    # 재무제표 가져오기\n",
    "    if type_=='yearly':\n",
    "        balance_sheet = ticker.balance_sheet\n",
    "        income_statement = ticker.financials\n",
    "        cash_flow = ticker.cashflow  # 현금흐름표 가져오기\n",
    "    else:\n",
    "        balance_sheet = ticker.quarterly_balance_sheet\n",
    "        income_statement = ticker.quarterly_financials\n",
    "        cash_flow = ticker.quarterly_cashflow  # 현금흐름표 가져오기\n",
    "\n",
    "\n",
    "    earnings = pd.concat([balance_sheet,income_statement])\n",
    "    earnings = pd.concat([earnings, cash_flow])\n",
    "    if earnings.empty :\n",
    "        return \"해당 기업의 재무 정보를 찾을수 없습니다.\"\n",
    "    total_debt = earnings.T['Total Debt'] if 'Total Debt' in earnings.T.columns else 'None'\n",
    "    net_debt =  earnings.T['Net Debt'] if 'Net Debt' in earnings.T.columns else 'None'\n",
    "    total_liabilities = earnings.loc[\"Total Liabilities Net Minority Interest\"].iloc[0]  # 총부채\n",
    "\n",
    "    # growth 분석\n",
    "    try:\n",
    "        total_revenue = earnings.loc[\"Total Revenue\"]\n",
    "        net_income = earnings.loc[\"Net Income\"]\n",
    "        revenue_growth_QoQ = ((total_revenue.iloc[0] - total_revenue.iloc[1]) / total_revenue.iloc[1]) * 100  # 매출 성장률 QoQ\n",
    "        net_income_growth_QoQ = ((net_income.iloc[0] - net_income.iloc[1]) / net_income.iloc[1]) * 100  # 순이익 성장률 QoQ\n",
    "        normalized_ebitda = float(earnings.loc['Normalized EBITDA'].iloc[0])\n",
    "        total_assets = float(earnings.loc['Total Assets'].iloc[0])\n",
    "        invested_capital = float(earnings.loc['Invested Capital'].iloc[0])\n",
    "        # Variables defined separately\n",
    "        if analysis_type == 'growth':\n",
    "            result_dic = {'revenue_growth_QoQ': revenue_growth_QoQ, 'net_income_growth_QoQ': net_income_growth_QoQ,'normalized_ebitda' : normalized_ebitda,'total_assets' : total_assets,'invested_capital':invested_capital}\n",
    "\n",
    "        # 수익성 (profitability)\n",
    "\n",
    "\n",
    "        elif analysis_type=='profitability':\n",
    "            total_revenue = earnings.loc[\"Total Revenue\"]\n",
    "            gross_profit = earnings.loc['Gross Profit']\n",
    "            gross_margin = gross_profit/total_revenue\n",
    "            net_income = earnings.loc[\"Net Income\"]\n",
    "            net_margin = (net_income.iloc[0] / total_revenue.iloc[0]) * 100  # 순이익률\n",
    "            stockholders_equity = earnings.loc[\"Stockholders Equity\"].iloc[0]  # 자기자본\n",
    "            total_assets = earnings.loc['Total Assets']\n",
    "            roe = (net_income.iloc[0] / stockholders_equity) * 100  # ROE\n",
    "            roa = (net_income.iloc[0] / total_assets) * 100  # ROA\n",
    "\n",
    "            EBITDA = earnings.loc['EBITDA']\n",
    "            EBITDA_margin = EBITDA/total_revenue\n",
    "\n",
    "            result_dic = {'total_revenue': total_revenue, 'gross_profit': gross_profit,'gross_margin' : gross_margin,'net_income' : net_income,\n",
    "                          'net_margin':net_margin, 'stockholders_equity':stockholders_equity,'total_assets':total_assets,'roe':roe,'roa':roa,\n",
    "                         'EBITDA':EBITDA, 'EBITDA_margin':EBITDA_margin}\n",
    "\n",
    "\n",
    "\n",
    "        elif analysis_type=='stability':\n",
    "                  ## financial_stability 재무안정성\n",
    "            debt_to_equity_ratio = total_liabilities / stockholders_equity  # 부채비율\n",
    "\n",
    "            current_assets = earnings.loc['Current Assets']\n",
    "            current_liabilities = earnings.loc['Current Liabilities'] # Current Assets / Current Liabilities 유동비율 계산 가능\n",
    "            inventory = earnings.loc['Inventory'] if  'Inventory' in earnings.T.columns else 0  # (Current Assets - Inventory) / Current Liabilities 당좌 비율\n",
    "            # (Current Assets - Inventory) / Current Liabilities 당좌 비율\n",
    "            result_dic = {'debt_to_equity_ratio': debt_to_equity_ratio, 'total_debt': total_debt,'net_debt' : net_debt,\n",
    "                          'current_assets' : current_assets,\n",
    "                          'current_liabilities':current_liabilities, 'inventory':inventory}\n",
    "\n",
    "\n",
    "        # valuation 분석\n",
    "\n",
    "        # 주식 관련 정보 가져오기\n",
    "\n",
    "        elif analysis_type=='valuation':\n",
    "            shares_outstanding = ticker.info[\"sharesOutstanding\"]  # 발행 주식 수\n",
    "            net_income = income_statement.loc[\"Net Income\"]\n",
    "            total_assets = earnings.loc[\"Total Assets\"].iloc[0]  # 총자산\n",
    "            total_liabilities = earnings.loc[\"Total Liabilities Net Minority Interest\"].iloc[0]  # 총부채\n",
    "            book_value = total_assets - total_liabilities  # 순자산\n",
    "            eps = net_income.iloc[0] / shares_outstanding  # 주당순이익 (EPS)\n",
    "            pe_ratio = current_price / eps  # PER\n",
    "            bvps = book_value / shares_outstanding  # 주당순자산가치\n",
    "            pb_ratio = current_price / bvps  # PBR\n",
    "\n",
    "            result_dic = {'shares_outstanding': shares_outstanding,'net_income': net_income.iloc[0],  # 첫 번째 값 사용\n",
    "                'total_assets': total_assets,'total_liabilities': total_liabilities,'book_value': book_value,'eps': eps,\n",
    "                'pe_ratio': pe_ratio,'bvps': bvps,'pb_ratio': pb_ratio}\n",
    "        # cash_flow\n",
    "\n",
    "        elif analysis_type=='cashflow':\n",
    "\n",
    "\n",
    "            cash_and_cash_equivalents = earnings.loc[\"Cash And Cash Equivalents\"].iloc[0]\n",
    "            net_ppe = earnings.loc[\"Net PPE\"].iloc[0]\n",
    "            result_dic = {'cash_and_cash_equivalents': cash_and_cash_equivalents,'net_ppe': net_ppe}\n",
    "\n",
    "        # 주식 배당 (Equity & Dividend)\n",
    "\n",
    "        elif analysis_type=='dividend':\n",
    "            ordinal_shares_number = earnings.T['Ordinary Shares Number']\n",
    "            net_income = income_statement.T['Net Income']\n",
    "            dividends = ticker.dividends\n",
    "            result_dic = {'ordinal_shares_number': ordinal_shares_number,'net_income':net_income, 'dividends': dividends}\n",
    "\n",
    "\n",
    "        ## 비용 구조 분석 비용 절감 능력과 효율성을\n",
    "\n",
    "\n",
    "        elif analysis_type=='cost':\n",
    "            cost_of_revenue = income_statement.loc['Cost Of Revenue']\n",
    "            SG_A = income_statement.loc['Selling General And Administration']\n",
    "            RnD = income_statement.loc['Research And Development']\n",
    "            result_dic = {'cost_of_revenue': cost_of_revenue,'SG_A':SG_A, 'RnD': RnD}\n",
    "\n",
    "        ##etc\n",
    "        # stockholder_equity = earnings.T['Stockholders Equity']\n",
    "        # longterm_debt = earnings.T['Long Term Debt']\n",
    "        # total_cap =  earnings.T['Total Capitalization']\n",
    "\n",
    "\n",
    "        # 예상 성장 값 계산\n",
    "\n",
    "        elif analysis_type=='expectation':\n",
    "            current_eps = ticker.info[\"trailingEps\"]  # 현재 EPS\n",
    "            eps_growth_rate = ticker.info[\"earningsGrowth\"]  # EPS 예상 성장률\n",
    "            current_net_income = ticker.financials.loc[\"Net Income\"].iloc[0]  # 현재 순이익\n",
    "            shares_outstanding = ticker.info[\"sharesOutstanding\"]  # 발행 주식 수\n",
    "            current_revenue = ticker.financials.loc[\"Total Revenue\"].iloc[0]  # 현재 매출\n",
    "            revenue_growth_rate = ticker.info[\"revenueGrowth\"]  # 매출 성장률\n",
    "            result_dic = {'current_eps': current_eps,'eps_growth_rate':eps_growth_rate, 'current_net_income': current_net_income,\n",
    "                         'shares_outstanding':shares_outstanding, 'current_revenue': current_revenue,'revenue_growth_rate':revenue_growth_rate}\n",
    "\n",
    "        else:\n",
    "            print('elseelse')\n",
    "            earningsdf = earnings.T.reset_index()\n",
    "            earningsdf = earningsdf.rename(columns = {'index':'date'})\n",
    "            earningsdf['date'] = earningsdf['date'].dt.strftime('%Y-%m-%d')\n",
    "            result_dic = earningsdf.to_dict('records')\n",
    "            if quarter=='-1':\n",
    "              result_dic= result_dic[0]\n",
    "\n",
    "    except:\n",
    "        print('exceptexcept')\n",
    "        earningsdf = earnings.T.reset_index()\n",
    "        earningsdf = earningsdf.rename(columns = {'index':'date'})\n",
    "        earningsdf['date'] = earningsdf['date'].dt.strftime('%Y-%m-%d')\n",
    "        result_dic = earningsdf.to_dict('records')\n",
    "\n",
    "\n",
    "        if quarter=='-1':\n",
    "            result_dic= result_dic[0]\n",
    "    return str(result_dic)"
   ]
  },
  {
   "cell_type": "code",
   "execution_count": 16,
   "id": "1a7201fd-4ba3-45cc-b801-bfd7d5f8a5a3",
   "metadata": {},
   "outputs": [],
   "source": [
    "system_prompt = \"\"\"당신은 다양한 기능을 호출할 수 있는 AI 모델입니다. 사용자의 요청에 따라 특정 함수를 호출하고, 함수의 시그니처는 <tools></tools> XML 태그 내에 제공됩니다. 함수를 호출할 때는 함수에 필요한 정확한 값을 추정하지 말고 사용자가 제공한 값에 따라 함수를 실행해야 합니다.\n",
    "\n",
    "아래는 사용 가능한 함수들과 각각의 파라미터에 대한 설명입니다:\n",
    "\n",
    "get_issues_summarized\n",
    "\n",
    "설명: 특정 회사 또는 키워드에 대한 이슈를 검색하고 요약합니다.\n",
    "파라미터:\n",
    "keyword: 이슈/현황을 검색하고자 하는 회사명 또는 키워드.\n",
    "days: 검색하고자 하는 기간(일 단위 (integer)).\n",
    "\n",
    "get_reddit_hotissue\n",
    "\n",
    "설명: 금융시장에서 핫한 이슈를 요약합니다.\n",
    "파라미터:\n",
    "days: 검색하고자 하는 기간(일 단위).\n",
    "\n",
    "{name: get_earnings,\n",
    "설명: 기업의 재무재표 또는 현금흐름을 가져오고 분석합니다. 성장률과 같이 이전 년도 데이터가 필요한경우, 이전 년도 데이터도 한번 더 호출하세요\n",
    "파라미터:{symbol: 실적 데이터를 찾고자 하는 기업의 심볼.\n",
    "analysis_type: 분석 유형(growth, profitability, stability, valuation, cashflow, dividend, cost, NA).\n",
    "type_: 데이터 타입(yearly 또는 quarter).\n",
    "year: 데이터를 찾고자 하는 연도 (명시하지 않을경우, 데이터가 존재하는 최근 연도의 데이터를 참조합니다.).\n",
    "quarter: 데이터를 찾고자 하는 분기(명시하지않은 경우 최근 데이터를 조회하도록 -1 을 입력합니다).}}\n",
    "\n",
    "get_consensus\n",
    "\n",
    "설명: 기업의 EPS 컨센서스 데이터 또는 매수/매도/홀드 의견을 가져와서 분석합니다.\n",
    "파라미터:\n",
    "symbol: 데이터를 찾고자 하는 기업의 심볼.\n",
    "year: 데이터를 찾고자 하는 연도.\n",
    "quarter: 데이터를 찾고자 하는 분기.\n",
    "각 함수 호출 시, JSON 객체를 사용하여 함수 이름과 인자들을 <tool_call></tool_call> XML 태그 내에 명시해야 합니다. 함수 호출 예시는 다음과 같습니다:\n",
    "\n",
    "xml\n",
    "Copy\n",
    "<tool_call>\n",
    "{\n",
    "    \"name\": \"get_earnings\",\n",
    "    \"arguments\": {\n",
    "        \"symbol\": \"AAPL\",\n",
    "        \"analysis_type\": \"growth\",\n",
    "        \"type_\": \"yearly\" ,\n",
    "        \"year\": \"2024\",\n",
    "        \"quarter\": \"-1\"\n",
    "    }\n",
    "}\n",
    "</tool_call>\n",
    "각 함수의 인자 값을 정확하게 지정해 주세요. 특히, 연도와 분기를 설정할 때 현재 날짜가 1월이나 2월인 경우, 최근 연도의 데이터를 참조하도록 주의해야 합니다.\n",
    "**주의사항\n",
    "함수를 호출할때를 제외하고 한국어로 대답하세요.\n",
    "\n",
    "\"\"\""
   ]
  },
  {
   "cell_type": "code",
   "execution_count": 17,
   "id": "0d34f2f1-611e-40f5-9bcf-303fd82faade",
   "metadata": {},
   "outputs": [],
   "source": [
    "import string\n",
    "\n",
    "def get_response(messages):\n",
    "    # 기본 시스템 메시지 추가\n",
    "    template = string.Template(\"<|im_start|>system\\n${system_content}<|im_end|>\")\n",
    "    \n",
    "    prompts = template.safe_substitute({\"system_content\": messages[0][\"content\"]})\n",
    "    \n",
    "    # 유저 및 어시스턴트 메시지를 반복적으로 추가\n",
    "    \n",
    "    for msg in messages[1:]:\n",
    "        if msg['role'] == 'user':\n",
    "            prompts += f\"<|im_start|>user\\n{msg['content']}<|im_end|>\"\n",
    "        elif msg['role'] == 'assistant':\n",
    "            prompts += f\"<|im_start|>assistnat{msg['content']}<|im_end|>\"\n",
    "    \n",
    "    \n",
    "    # 최종 출력 확인\"\n",
    "    # print(prompt)\n",
    "    \n",
    "    # 샘플링 파라미터 설정\n",
    "    sampling_params = SamplingParams(\n",
    "        temperature=0,\n",
    "        max_tokens=1024,\n",
    "        stop=[\"<|im_end|>\"],  # 문자열로 중지 토큰 지정\n",
    "        repetition_penalty=1.0\n",
    "    )\n",
    "    \n",
    "    # 생성\n",
    "    outputs = llm.generate([prompts], sampling_params)\n",
    "    \n",
    "    # 결과 출력\n",
    "    for output in outputs:\n",
    "        return output.outputs[0].text\n",
    "        "
   ]
  },
  {
   "cell_type": "code",
   "execution_count": 18,
   "id": "8aaa8ea0-8b53-48a5-831e-e7cdfd1b310f",
   "metadata": {},
   "outputs": [
    {
     "name": "stderr",
     "output_type": "stream",
     "text": [
      "Processed prompts: 100%|██████████| 1/1 [00:00<00:00,  2.07it/s, est. speed input: 1396.72 toks/s, output: 76.56 toks/s]\n"
     ]
    }
   ],
   "source": [
    "question = '구글의 이번분기의 실적 전망치는?'\n",
    "full_messages = [{\"role\": \"system\", \"content\": system_prompt}]\n",
    "messages = full_messages\n",
    "messages.append({\"role\": \"user\", \"content\": question})\n",
    "response_message = get_response(messages)"
   ]
  },
  {
   "cell_type": "code",
   "execution_count": 19,
   "id": "4b27309e-d269-4ba6-8f5d-2c807a0173ea",
   "metadata": {},
   "outputs": [
    {
     "data": {
      "text/plain": [
       "':\\';\\n<tool_call>{\"name\":\"get_consensus\",\"arguments\": {\"symbol\": \"GOOGL\", \"year\": \"2024\", \"quarter\": \"-1\"}}</tool_call>'"
      ]
     },
     "execution_count": 19,
     "metadata": {},
     "output_type": "execute_result"
    }
   ],
   "source": [
    "test_trl_messages"
   ]
  },
  {
   "cell_type": "code",
   "execution_count": null,
   "id": "2aeb847b-c49b-4970-bee2-67a5da54440e",
   "metadata": {},
   "outputs": [],
   "source": [
    "system_prompt_date = '오늘 날짜는 2025-03-15 입니다.' + system_prompt\n",
    "user_prompt = \"테슬라(Tesla)의 최근 주식 매수/매도 분기 전망은 어떻게 되나요?\"\n",
    "\n",
    "messages= [\n",
    "    {\"role\": \"system\", \"content\": system_prompt_date},\n",
    "    {\"role\": \"user\", \"content\": user_prompt},\n",
    "    {\"role\": \"assistant\", \"content\": \"\"}  # AI의 응답이 들어갈 자리\n",
    "]"
   ]
  }
 ],
 "metadata": {
  "kernelspec": {
   "display_name": "Python 3 (ipykernel)",
   "language": "python",
   "name": "python3"
  },
  "language_info": {
   "codemirror_mode": {
    "name": "ipython",
    "version": 3
   },
   "file_extension": ".py",
   "mimetype": "text/x-python",
   "name": "python",
   "nbconvert_exporter": "python",
   "pygments_lexer": "ipython3",
   "version": "3.10.12"
  }
 },
 "nbformat": 4,
 "nbformat_minor": 5
}
